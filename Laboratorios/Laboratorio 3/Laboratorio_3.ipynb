{
  "cells": [
    {
      "cell_type": "markdown",
      "source": [
        "# Laboratorio 3. Clasificación multiclase.\n",
        "Rúa Echalar Juan Manuel"
      ],
      "metadata": {
        "id": "fGXnPkkfwa96"
      }
    },
    {
      "cell_type": "code",
      "source": [
        "from google.colab import drive\n",
        "drive.mount('/content/drive')"
      ],
      "metadata": {
        "colab": {
          "base_uri": "https://localhost:8080/"
        },
        "id": "clyp4NcQycWP",
        "outputId": "0c067a35-c328-4ea6-c8e8-3dda35f783e2"
      },
      "execution_count": 110,
      "outputs": [
        {
          "output_type": "stream",
          "name": "stdout",
          "text": [
            "Drive already mounted at /content/drive; to attempt to forcibly remount, call drive.mount(\"/content/drive\", force_remount=True).\n"
          ]
        }
      ]
    },
    {
      "cell_type": "code",
      "execution_count": 111,
      "metadata": {
        "id": "20Q29kX8SxgJ"
      },
      "outputs": [],
      "source": [
        "# utilizado para la manipulación de directorios y rutas\n",
        "import os\n",
        "\n",
        "# Cálculo científico y vectorial para python\n",
        "import numpy as np\n",
        "\n",
        "# Libreria para graficos\n",
        "from matplotlib import pyplot\n",
        "\n",
        "# Modulo de optimizacion en scipy\n",
        "from scipy import optimize\n",
        "\n",
        "# modulo para cargar archivos en formato MATLAB\n",
        "# from scipy.io import loadmat\n",
        "\n",
        "# le dice a matplotlib que incruste gráficos en el cuaderno\n",
        "%matplotlib inline"
      ]
    },
    {
      "cell_type": "code",
      "source": [
        "import pandas as pd\n",
        "from sklearn.preprocessing import LabelEncoder\n",
        "\n",
        "# Cargar el dataset\n",
        "data = pd.read_csv('/content/drive/MyDrive/IA/SIS420/Clase_pasajero_test.csv')\n",
        "# Eliminar la columna 'id' si no es relevante para el análisis\n",
        "data.drop('#', axis=1, inplace=True)\n",
        "\n",
        "# Codificar la columna 'Gender' usando LabelEncoder\n",
        "label_encoder = LabelEncoder()\n",
        "data['Gender'] = label_encoder.fit_transform(data['Gender'])\n",
        "\n",
        "# Codificar la columna 'Customer Type' usando LabelEncoder\n",
        "data['Customer Type'] = label_encoder.fit_transform(data['Customer Type'])\n",
        "\n",
        "# Codificar la columna 'Type of Travel' usando LabelEncoder\n",
        "data['Type of Travel'] = label_encoder.fit_transform(data['Type of Travel'])\n",
        "\n",
        "# Convertir 'satisfaction' a 1 para 'satisfied' y 0 para 'neutral or dissatisfaction'\n",
        "data['satisfaction'] = (data['satisfaction'] == 'satisfied').astype(int)\n",
        "\n",
        "# Reorganizar las columnas para poner 'Class' al final\n",
        "class_col = data.pop('Class')\n",
        "data['Class'] = class_col\n",
        "\n",
        "# Guardar el dataset preprocesado en un nuevo archivo CSV\n",
        "data.to_csv('dataset_preprocesado_numerico.csv', index=False)\n"
      ],
      "metadata": {
        "id": "Q43Dg-ARqH2l"
      },
      "execution_count": 112,
      "outputs": []
    },
    {
      "cell_type": "code",
      "source": [
        "# Cargar el dataset usando Pandas\n",
        "data = pd.read_csv('dataset_preprocesado_numerico.csv')\n",
        "\n",
        "# Eliminar la primera fila que contiene los encabezados de las columnas\n",
        "data = data.iloc[1:]\n",
        "\n",
        "# Convertir la columna 'Class' en valores numéricos\n",
        "class_mapping = {'Business': 1, 'Eco': 2, 'Eco Plus': 3}\n",
        "data['Class'] = data['Class'].map(class_mapping)\n",
        "\n",
        "# Eliminar las filas que contienen valores faltantes\n",
        "data.dropna(inplace=True)\n",
        "\n",
        "# Convertir el DataFrame a una matriz NumPy si es necesario\n",
        "data_np = data.to_numpy()\n",
        "\n",
        "# Ahora puedes acceder a 'data_np' para obtener tus datos como una matriz NumPy\n"
      ],
      "metadata": {
        "id": "ZOFL0SFUqpib"
      },
      "execution_count": 113,
      "outputs": []
    },
    {
      "source": [
        "# La entrada es de 23 elemento contando con x0\n",
        "input_layer_size  = 23\n",
        "\n",
        "# 3 etiquetas (1, 2 o 3)\n",
        "num_labels = 3\n",
        "\n",
        "X = data_np[:20714, :-1]\n",
        "y = data_np[:20714, -1]\n",
        "X_test = data_np[20714:, :-1]\n",
        "Y_test = data_np[20714:, -1]\n",
        "\n",
        "m = y.size"
      ],
      "cell_type": "code",
      "metadata": {
        "id": "z1HhwoUPY_nr"
      },
      "execution_count": 114,
      "outputs": []
    },
    {
      "cell_type": "code",
      "source": [
        "print(X.shape)"
      ],
      "metadata": {
        "id": "OoTUspzAkj5z",
        "outputId": "22a8fdd9-3339-44e7-a877-b4e02057657b",
        "colab": {
          "base_uri": "https://localhost:8080/"
        }
      },
      "execution_count": 115,
      "outputs": [
        {
          "output_type": "stream",
          "name": "stdout",
          "text": [
            "(20714, 23)\n"
          ]
        }
      ]
    },
    {
      "cell_type": "code",
      "execution_count": 116,
      "metadata": {
        "id": "aw2yVc8ESxgL",
        "outputId": "4468d37e-e67a-46b3-e8fe-0d63af21977f",
        "colab": {
          "base_uri": "https://localhost:8080/"
        }
      },
      "outputs": [
        {
          "output_type": "stream",
          "name": "stdout",
          "text": [
            "[9.0035e+04 0.0000e+00 0.0000e+00 3.6000e+01 0.0000e+00 2.8630e+03\n",
            " 1.0000e+00 1.0000e+00 3.0000e+00 1.0000e+00 5.0000e+00 4.0000e+00\n",
            " 5.0000e+00 4.0000e+00 4.0000e+00 4.0000e+00 4.0000e+00 3.0000e+00\n",
            " 4.0000e+00 5.0000e+00 0.0000e+00 0.0000e+00 1.0000e+00]\n",
            "[1. 2. 1. ... 1. 1. 2.]\n"
          ]
        }
      ],
      "source": [
        "print(X[0,:])\n",
        "print(y)"
      ]
    },
    {
      "cell_type": "code",
      "source": [
        "def  featureNormalize(X):\n",
        "    X_norm = X.copy()\n",
        "    mu = np.zeros(X.shape[1])\n",
        "    sigma = np.zeros(X.shape[1])\n",
        "\n",
        "    mu = np.mean(X, axis = 0)\n",
        "    sigma = np.std(X, axis = 0)\n",
        "    X_norm = (X - mu) / sigma\n",
        "\n",
        "    return X_norm, mu, sigma"
      ],
      "metadata": {
        "id": "HWF5C5Jt8wNb"
      },
      "execution_count": 117,
      "outputs": []
    },
    {
      "cell_type": "code",
      "source": [
        "# llama featureNormalize con los datos cargados\n",
        "X_norm, mu, sigma = featureNormalize(X)\n",
        "X_test_norm, mu_test,sigma_test = featureNormalize(X_test)"
      ],
      "metadata": {
        "id": "f4W6d-ya1ABV"
      },
      "execution_count": 118,
      "outputs": []
    },
    {
      "cell_type": "code",
      "source": [
        "# Configurar la matriz adecuadamente, y agregar una columna de unos que corresponde al termino de intercepción.\n",
        "m, n = X.shape\n",
        "X = X_norm\n"
      ],
      "metadata": {
        "id": "r9e6MRrW1G22"
      },
      "execution_count": 119,
      "outputs": []
    },
    {
      "cell_type": "code",
      "source": [
        "print(X.shape)"
      ],
      "metadata": {
        "id": "jtrCpY5KkuiN",
        "outputId": "ba89a477-ffd9-460e-e1e0-94e805393809",
        "colab": {
          "base_uri": "https://localhost:8080/"
        }
      },
      "execution_count": 120,
      "outputs": [
        {
          "output_type": "stream",
          "name": "stdout",
          "text": [
            "(20714, 23)\n"
          ]
        }
      ]
    },
    {
      "cell_type": "code",
      "execution_count": 121,
      "metadata": {
        "id": "B5marXeKSxgM"
      },
      "outputs": [],
      "source": [
        "# Selecciona aleatoriamente 100 puntos de datos para mostrar\n",
        "rand_indices = np.random.choice(m, 100, replace=False)\n",
        "sel = X[rand_indices, :]\n"
      ]
    },
    {
      "cell_type": "code",
      "execution_count": 122,
      "metadata": {
        "id": "0sB9Kyi8SxgN"
      },
      "outputs": [],
      "source": [
        "def sigmoid(z):\n",
        "    \"\"\"\n",
        "    Calcula la sigmoide de z.\n",
        "    \"\"\"\n",
        "    return 1.0 / (1.0 + np.exp(-z))"
      ]
    },
    {
      "cell_type": "code",
      "execution_count": 123,
      "metadata": {
        "id": "w5S0OOswSxgN"
      },
      "outputs": [],
      "source": [
        "def lrCostFunction(theta, X, y, lambda_):\n",
        "    \"\"\"\n",
        "    Calcula el costo de usar theta como parámetro para la regresión logística regularizada y\n",
        "    el gradiente del costo w.r.t. a los parámetros.\n",
        "\n",
        "    Parametros\n",
        "    ----------\n",
        "    theta : array_like\n",
        "        Parametro theta de la regresion logistica. Vector de la forma(shape) (n, ). n es el numero de caracteristicas\n",
        "        incluida la intercepcion\n",
        "\n",
        "    X : array_like\n",
        "        Dataset con la forma(shape) (m x n). m es el numero de ejemplos, y n es el numero de\n",
        "        caracteristicas (incluida la intercepcion).\n",
        "\n",
        "    y : array_like\n",
        "        El conjunto de etiquetas. Un vector con la forma (shape) (m, ). m es el numero de ejemplos\n",
        "\n",
        "    lambda_ : float\n",
        "        Parametro de regularización.\n",
        "\n",
        "    Devuelve\n",
        "    -------\n",
        "    J : float\n",
        "        El valor calculado para la funcion de costo regularizada.\n",
        "\n",
        "    grad : array_like\n",
        "        Un vector de la forma (shape) (n, ) que es el gradiente de la\n",
        "        función de costo con respecto a theta, en los valores actuales de theta..\n",
        "    \"\"\"\n",
        "\n",
        "    # Inicializa algunos valores utiles\n",
        "    m = y.size\n",
        "\n",
        "    # convierte las etiquetas a valores enteros si son boleanos\n",
        "    if y.dtype == bool:\n",
        "        y = y.astype(int)\n",
        "\n",
        "    J = 0\n",
        "    grad = np.zeros(theta.shape)\n",
        "\n",
        "    h = sigmoid(X.dot(theta.T))\n",
        "\n",
        "    temp = theta\n",
        "    temp[0] = 0\n",
        "\n",
        "#     J = (1 / m) * np.sum(-y.dot(np.log(h)) - (1 - y).dot(np.log(1 - h)))\n",
        "    J = (1 / m) * np.sum(-y.dot(np.log(h)) - (1 - y).dot(np.log(1 - h))) + (lambda_ / (2 * m)) * np.sum(np.square(temp))\n",
        "\n",
        "    grad = (1 / m) * (h - y).dot(X)\n",
        "#     theta = theta - (alpha / m) * (h - y).dot(X)\n",
        "    grad = grad + (lambda_ / m) * temp\n",
        "\n",
        "    return J, grad\n",
        "#    return J, theta"
      ]
    },
    {
      "cell_type": "code",
      "execution_count": 124,
      "metadata": {
        "id": "V0rOw5qhSxgN"
      },
      "outputs": [],
      "source": [
        "def oneVsAll(X, y, num_labels, lambda_):\n",
        "    \"\"\"\n",
        "    Trains num_labels logistic regression classifiers and returns\n",
        "    each of these classifiers in a matrix all_theta, where the i-th\n",
        "    row of all_theta corresponds to the classifier for label i.\n",
        "\n",
        "    Parameters\n",
        "    ----------\n",
        "    X : array_like\n",
        "        The input dataset of shape (m x n). m is the number of\n",
        "        data points, and n is the number of features. Note that we\n",
        "        do not assume that the intercept term (or bias) is in X, however\n",
        "        we provide the code below to add the bias term to X.\n",
        "\n",
        "    y : array_like\n",
        "        The data labels. A vector of shape (m, ).\n",
        "\n",
        "    num_labels : int\n",
        "        Number of possible labels.\n",
        "\n",
        "    lambda_ : float\n",
        "        The logistic regularization parameter.\n",
        "\n",
        "    Returns\n",
        "    -------\n",
        "    all_theta : array_like\n",
        "        The trained parameters for logistic regression for each class.\n",
        "        This is a matrix of shape (K x n+1) where K is number of classes\n",
        "        (ie. `numlabels`) and n is number of features without the bias.\n",
        "    \"\"\"\n",
        "    # algunas variables utiles\n",
        "    m, n = X.shape\n",
        "\n",
        "    all_theta = np.zeros((num_labels, n + 1))\n",
        "\n",
        "    # Agrega unos a la matriz X\n",
        "    X = np.concatenate([np.ones((m, 1)), X], axis=1)\n",
        "\n",
        "    for c in np.arange(num_labels):\n",
        "        initial_theta = np.zeros(n + 1)\n",
        "        options = {'maxiter': 50}\n",
        "        res = optimize.minimize(lrCostFunction,\n",
        "                                initial_theta,\n",
        "                                (X, (y == c), lambda_),\n",
        "                                jac=True,\n",
        "                                method='CG',\n",
        "                                options=options)\n",
        "\n",
        "        all_theta[c] = res.x\n",
        "\n",
        "    return all_theta"
      ]
    },
    {
      "cell_type": "code",
      "execution_count": 125,
      "metadata": {
        "id": "w6JbsLLMSxgO",
        "outputId": "931480fd-3ecc-479b-a15a-c2d2117bdda3",
        "colab": {
          "base_uri": "https://localhost:8080/"
        }
      },
      "outputs": [
        {
          "output_type": "stream",
          "name": "stdout",
          "text": [
            "(3, 24)\n"
          ]
        }
      ],
      "source": [
        "lambda_ = 0.1\n",
        "all_theta = oneVsAll(X, y, num_labels, lambda_)\n",
        "print(all_theta.shape)"
      ]
    },
    {
      "cell_type": "code",
      "source": [
        "print(all_theta)"
      ],
      "metadata": {
        "colab": {
          "base_uri": "https://localhost:8080/"
        },
        "id": "V1EfKaiEgtcw",
        "outputId": "0f622087-e75c-4c0e-c24b-457dda54200a"
      },
      "execution_count": 126,
      "outputs": [
        {
          "output_type": "stream",
          "name": "stdout",
          "text": [
            "[[-1.24380805e+01 -1.10762221e-12  9.38562007e-14  2.31999303e-12\n",
            "  -2.10965276e-12  4.31204928e-12 -4.29460399e-12 -6.00245078e-12\n",
            "  -1.56788800e-12 -4.18145145e-12 -1.15608430e-12 -7.72923450e-12\n",
            "  -8.38306519e-12 -9.24244050e-12 -1.11522693e-11 -7.36040980e-12\n",
            "  -6.23807242e-12 -6.70685094e-12 -4.81152892e-12 -6.76108614e-12\n",
            "  -9.18810818e-12  1.00662419e-12  1.12441198e-12 -9.49956618e-12]\n",
            " [-4.75404761e-02  2.15061407e-01  3.74346656e-02 -2.45180902e-01\n",
            "   1.62071160e-01 -1.59152603e+00  1.08025391e+00 -8.28211341e-01\n",
            "  -8.09138315e-03  2.66422725e-01  6.65390667e-02  7.08371446e-02\n",
            "   5.83642908e-01  2.61043581e-01 -2.97751163e-01  2.86274672e-01\n",
            "   1.30477036e-01  2.91524726e-01  1.93418852e-01  2.30371387e-01\n",
            "  -5.27299334e-02 -5.27400931e-02  2.60484118e-02  3.78943276e-01]\n",
            " [-5.09480370e-01 -1.56865157e-01 -1.07624983e-03  4.11427996e-01\n",
            "  -9.33802888e-02  1.14086415e+00 -7.69403643e-01  5.95753697e-01\n",
            "   4.20298840e-02 -2.12645029e-01 -4.82298421e-02 -4.75805932e-02\n",
            "  -3.78382467e-01 -1.47290959e-01  2.46244953e-01 -1.70634955e-01\n",
            "  -1.14956365e-01 -1.73234960e-01 -1.19497560e-01 -1.80421130e-01\n",
            "  -3.31745755e-02  5.22150079e-02 -2.19483053e-02 -3.29736244e-01]]\n"
          ]
        }
      ]
    },
    {
      "cell_type": "code",
      "execution_count": 127,
      "metadata": {
        "id": "PjFoFe1bSxgO"
      },
      "outputs": [],
      "source": [
        "def predictOneVsAll(all_theta, X):\n",
        "    \"\"\"\n",
        "    Devuelve un vector de predicciones para cada ejemplo en la matriz X.\n",
        "    Tenga en cuenta que X contiene los ejemplos en filas.\n",
        "    all_theta es una matriz donde la i-ésima fila es un vector theta de regresión logística entrenada para la i-ésima clase.\n",
        "    Debe establecer p en un vector de valores de 0..K-1 (por ejemplo, p = [0, 2, 0, 1]\n",
        "    predice clases 0, 2, 0, 1 para 4 ejemplos).\n",
        "\n",
        "    Parametros\n",
        "    ----------\n",
        "    all_theta : array_like\n",
        "        The trained parameters for logistic regression for each class.\n",
        "        This is a matrix of shape (K x n+1) where K is number of classes\n",
        "        and n is number of features without the bias.\n",
        "\n",
        "    X : array_like\n",
        "        Data points to predict their labels. This is a matrix of shape\n",
        "        (m x n) where m is number of data points to predict, and n is number\n",
        "        of features without the bias term. Note we add the bias term for X in\n",
        "        this function.\n",
        "\n",
        "    Devuelve\n",
        "    -------\n",
        "    p : array_like\n",
        "        The predictions for each data point in X. This is a vector of shape (m, ).\n",
        "    \"\"\"\n",
        "\n",
        "    m = X.shape[0];\n",
        "    num_labels = all_theta.shape[0]\n",
        "\n",
        "    p = np.zeros(m)\n",
        "\n",
        "    # Add ones to the X data matrix\n",
        "    X = np.concatenate([np.ones((m, 1)), X], axis=1)\n",
        "    p = np.argmax(sigmoid(X.dot(all_theta.T)), axis = 1)\n",
        "\n",
        "    return p"
      ]
    },
    {
      "cell_type": "code",
      "source": [
        "print(X_norm)"
      ],
      "metadata": {
        "id": "TfC6XPABlA2j",
        "outputId": "3813a9a6-2e69-4d42-f97b-df488503b12c",
        "colab": {
          "base_uri": "https://localhost:8080/"
        }
      },
      "execution_count": 128,
      "outputs": [
        {
          "output_type": "stream",
          "name": "stdout",
          "text": [
            "[[ 0.66554022 -0.98248417 -0.47566895 ... -0.38344123 -0.39313462\n",
            "   1.13360152]\n",
            " [-1.39339301  1.01782811  2.10230244 ... -0.38344123 -0.39313462\n",
            "  -0.8821442 ]\n",
            " [ 0.34544138  1.01782811 -0.47566895 ... -0.38344123 -0.23317697\n",
            "   1.13360152]\n",
            " ...\n",
            " [ 0.0501266  -0.98248417 -0.47566895 ... -0.27568503 -0.09987893\n",
            "   1.13360152]\n",
            " [ 0.55280584 -0.98248417 -0.47566895 ... -0.38344123 -0.39313462\n",
            "   1.13360152]\n",
            " [ 0.95022568  1.01782811 -0.47566895 ... -0.38344123 -0.39313462\n",
            "   1.13360152]]\n"
          ]
        }
      ]
    },
    {
      "cell_type": "code",
      "execution_count": 129,
      "metadata": {
        "id": "mE7v5cglSxgO",
        "outputId": "7a4e869a-048a-4040-b73b-7cf2c17a6aed",
        "colab": {
          "base_uri": "https://localhost:8080/"
        }
      },
      "outputs": [
        {
          "output_type": "stream",
          "name": "stdout",
          "text": [
            "(20714, 23)\n",
            "(20714, 23)\n",
            "[[ 0.66554022 -0.98248417 -0.47566895 ... -0.38344123 -0.39313462\n",
            "   1.13360152]\n",
            " [-1.39339301  1.01782811  2.10230244 ... -0.38344123 -0.39313462\n",
            "  -0.8821442 ]\n",
            " [ 0.34544138  1.01782811 -0.47566895 ... -0.38344123 -0.23317697\n",
            "   1.13360152]\n",
            " ...\n",
            " [ 0.0501266  -0.98248417 -0.47566895 ... -0.27568503 -0.09987893\n",
            "   1.13360152]\n",
            " [ 0.55280584 -0.98248417 -0.47566895 ... -0.38344123 -0.39313462\n",
            "   1.13360152]\n",
            " [ 0.95022568  1.01782811 -0.47566895 ... -0.38344123 -0.39313462\n",
            "   1.13360152]]\n",
            "Precision del conjuto de entrenamiento: 77.82%\n",
            "(140, 23)\n",
            "(140, 24)\n",
            "[1 1 1 1 2 1 2 2 1 1 2 2 1 2 2 1 2 1 2 2 1 2 2 2 2 1 1 1 2 2 2 2 1 2 2 1 2\n",
            " 1 2 2 1 1 1 1 2 1 2 2 2 1 1 2 2 1 2 1 2 1 1 2 1 2 1 2 2 1 2 2 2 1 2 1 1 2\n",
            " 2 2 1 2 1 1 2 1 1 1 2 2 1 2 1 2 2 2 2 1 1 1 2 2 1 1 2 1 2 2 2 2 1 2 1 1 1\n",
            " 2 2 2 2 2 2 1 1 2 2 2 2 1 2 1 1 2 1 1 1 2 1 1 1 1 1 2 2 1]\n",
            "[1. 1. 1. 1. 2. 2. 3. 2. 1. 1. 2. 2. 1. 2. 2. 1. 2. 1. 2. 1. 2. 2. 2. 2.\n",
            " 2. 1. 1. 1. 2. 1. 2. 1. 1. 3. 2. 1. 2. 1. 2. 3. 1. 2. 2. 1. 1. 1. 2. 2.\n",
            " 2. 1. 2. 2. 2. 1. 3. 1. 2. 1. 1. 1. 1. 1. 1. 3. 2. 2. 2. 3. 2. 1. 2. 1.\n",
            " 1. 2. 1. 2. 1. 2. 2. 1. 2. 1. 2. 1. 3. 2. 1. 2. 1. 2. 2. 2. 2. 1. 1. 1.\n",
            " 2. 2. 1. 2. 2. 1. 2. 3. 2. 2. 1. 2. 1. 3. 1. 2. 1. 2. 2. 2. 1. 1. 1. 2.\n",
            " 3. 2. 1. 1. 3. 1. 1. 2. 1. 2. 1. 2. 1. 1. 1. 2. 1. 2. 2. 1.]\n"
          ]
        }
      ],
      "source": [
        "print(X.shape)\n",
        "pred = predictOneVsAll(all_theta, X)\n",
        "print(X.shape)\n",
        "print(X)\n",
        "print('Precision del conjuto de entrenamiento: {:.2f}%'.format(np.mean(pred == y) * 100))\n",
        "XPrueba = X[10:150, :].copy()\n",
        "print(XPrueba.shape)\n",
        "\n",
        "XPrueba = np.concatenate([np.ones((140, 1)), XPrueba], axis=1)\n",
        "print(XPrueba.shape)\n",
        "p = np.argmax(sigmoid(XPrueba.dot(all_theta.T)), axis = 1)\n",
        "print(p)\n",
        "\n",
        "print(y[10:150])"
      ]
    },
    {
      "cell_type": "code",
      "source": [
        "print(X.shape)\n",
        "pred = predictOneVsAll(all_theta, X)\n",
        "print('Precision del conjuto de entrenamiento: {:.2f}%'.format(np.mean(pred == y) * 100))\n",
        "XPrueba = X_test_norm[10:150, :].copy()\n",
        "print(XPrueba.shape)\n",
        "\n",
        "XPrueba = np.concatenate([np.ones((140, 1)), XPrueba], axis=1)\n",
        "print(XPrueba.shape)\n",
        "p = np.argmax(sigmoid(XPrueba.dot(all_theta.T)), axis = 1)\n",
        "print(p)\n",
        "\n",
        "# displayData(X[1002:1003, :])\n",
        "print(Y_test[10:150])"
      ],
      "metadata": {
        "id": "BBmEWhubgf1d",
        "outputId": "1a1a1d1a-6109-4d90-d30c-3ab6107cdc3b",
        "colab": {
          "base_uri": "https://localhost:8080/"
        }
      },
      "execution_count": 130,
      "outputs": [
        {
          "output_type": "stream",
          "name": "stdout",
          "text": [
            "(20714, 23)\n",
            "Precision del conjuto de entrenamiento: 77.82%\n",
            "(140, 23)\n",
            "(140, 24)\n",
            "[1 2 2 1 1 2 2 1 2 2 1 1 1 2 2 2 1 1 1 1 2 1 1 2 2 1 1 1 2 2 1 2 1 1 1 1 1\n",
            " 1 1 1 1 1 2 1 1 2 1 2 1 1 2 1 1 2 1 1 1 1 2 2 2 1 1 1 1 2 2 1 1 2 2 1 1 1\n",
            " 1 1 1 1 2 1 1 2 2 2 2 1 2 1 1 1 2 1 2 1 1 2 1 1 2 1 1 1 1 1 1 1 1 1 1 1 1\n",
            " 1 2 2 1 2 1 2 2 2 2 1 2 2 2 2 2 1 1 2 1 2 1 2 2 1 2 1 1 2]\n",
            "[1. 1. 2. 1. 1. 2. 2. 1. 2. 2. 1. 1. 1. 2. 2. 1. 1. 2. 1. 2. 2. 1. 2. 2.\n",
            " 2. 1. 1. 1. 2. 2. 1. 2. 1. 1. 1. 1. 1. 1. 1. 1. 1. 1. 2. 1. 1. 2. 1. 1.\n",
            " 1. 1. 2. 1. 1. 1. 1. 1. 1. 1. 2. 3. 2. 1. 1. 2. 1. 2. 3. 1. 1. 2. 1. 1.\n",
            " 1. 1. 1. 1. 1. 1. 2. 1. 1. 2. 2. 2. 2. 1. 2. 1. 1. 1. 2. 1. 2. 1. 1. 2.\n",
            " 1. 1. 3. 1. 1. 1. 1. 1. 2. 1. 1. 1. 1. 1. 1. 2. 3. 1. 1. 2. 1. 2. 2. 3.\n",
            " 2. 2. 2. 2. 2. 2. 2. 2. 1. 2. 1. 2. 2. 2. 2. 1. 2. 3. 1. 2.]\n"
          ]
        }
      ]
    },
    {
      "cell_type": "code",
      "execution_count": 131,
      "metadata": {
        "id": "7WaT8luNSxgO",
        "outputId": "05d144b3-9328-49ba-f47c-37a6cd2d1d3d",
        "colab": {
          "base_uri": "https://localhost:8080/"
        }
      },
      "outputs": [
        {
          "output_type": "stream",
          "name": "stdout",
          "text": [
            "(20714, 23)\n",
            "Precision del conjunto de entrenamiento: 77.82%\n",
            "(140, 23)\n",
            "Clase predicha para el pasajero: 1, Clase real: 1.0\n",
            "Clase predicha para el pasajero: 2, Clase real: 1.0\n",
            "Clase predicha para el pasajero: 2, Clase real: 1.0\n",
            "Clase predicha para el pasajero: 1, Clase real: 1.0\n",
            "Clase predicha para el pasajero: 1, Clase real: 2.0\n",
            "Clase predicha para el pasajero: 2, Clase real: 2.0\n",
            "Clase predicha para el pasajero: 2, Clase real: 3.0\n",
            "Clase predicha para el pasajero: 1, Clase real: 2.0\n",
            "Clase predicha para el pasajero: 2, Clase real: 1.0\n",
            "Clase predicha para el pasajero: 2, Clase real: 1.0\n",
            "Clase predicha para el pasajero: 1, Clase real: 2.0\n",
            "Clase predicha para el pasajero: 1, Clase real: 2.0\n",
            "Clase predicha para el pasajero: 1, Clase real: 1.0\n",
            "Clase predicha para el pasajero: 2, Clase real: 2.0\n",
            "Clase predicha para el pasajero: 2, Clase real: 2.0\n",
            "Clase predicha para el pasajero: 2, Clase real: 1.0\n",
            "Clase predicha para el pasajero: 1, Clase real: 2.0\n",
            "Clase predicha para el pasajero: 1, Clase real: 1.0\n",
            "Clase predicha para el pasajero: 1, Clase real: 2.0\n",
            "Clase predicha para el pasajero: 1, Clase real: 1.0\n",
            "Clase predicha para el pasajero: 2, Clase real: 2.0\n",
            "Clase predicha para el pasajero: 1, Clase real: 2.0\n",
            "Clase predicha para el pasajero: 1, Clase real: 2.0\n",
            "Clase predicha para el pasajero: 2, Clase real: 2.0\n",
            "Clase predicha para el pasajero: 2, Clase real: 2.0\n",
            "Clase predicha para el pasajero: 1, Clase real: 1.0\n",
            "Clase predicha para el pasajero: 1, Clase real: 1.0\n",
            "Clase predicha para el pasajero: 1, Clase real: 1.0\n",
            "Clase predicha para el pasajero: 2, Clase real: 2.0\n",
            "Clase predicha para el pasajero: 2, Clase real: 1.0\n",
            "Clase predicha para el pasajero: 1, Clase real: 2.0\n",
            "Clase predicha para el pasajero: 2, Clase real: 1.0\n",
            "Clase predicha para el pasajero: 1, Clase real: 1.0\n",
            "Clase predicha para el pasajero: 1, Clase real: 3.0\n",
            "Clase predicha para el pasajero: 1, Clase real: 2.0\n",
            "Clase predicha para el pasajero: 1, Clase real: 1.0\n",
            "Clase predicha para el pasajero: 1, Clase real: 2.0\n",
            "Clase predicha para el pasajero: 1, Clase real: 1.0\n",
            "Clase predicha para el pasajero: 1, Clase real: 2.0\n",
            "Clase predicha para el pasajero: 1, Clase real: 3.0\n",
            "Clase predicha para el pasajero: 1, Clase real: 1.0\n",
            "Clase predicha para el pasajero: 1, Clase real: 2.0\n",
            "Clase predicha para el pasajero: 2, Clase real: 2.0\n",
            "Clase predicha para el pasajero: 1, Clase real: 1.0\n",
            "Clase predicha para el pasajero: 1, Clase real: 1.0\n",
            "Clase predicha para el pasajero: 2, Clase real: 1.0\n",
            "Clase predicha para el pasajero: 1, Clase real: 2.0\n",
            "Clase predicha para el pasajero: 2, Clase real: 2.0\n",
            "Clase predicha para el pasajero: 1, Clase real: 2.0\n",
            "Clase predicha para el pasajero: 1, Clase real: 1.0\n",
            "Clase predicha para el pasajero: 2, Clase real: 2.0\n",
            "Clase predicha para el pasajero: 1, Clase real: 2.0\n",
            "Clase predicha para el pasajero: 1, Clase real: 2.0\n",
            "Clase predicha para el pasajero: 2, Clase real: 1.0\n",
            "Clase predicha para el pasajero: 1, Clase real: 3.0\n",
            "Clase predicha para el pasajero: 1, Clase real: 1.0\n",
            "Clase predicha para el pasajero: 1, Clase real: 2.0\n",
            "Clase predicha para el pasajero: 1, Clase real: 1.0\n",
            "Clase predicha para el pasajero: 2, Clase real: 1.0\n",
            "Clase predicha para el pasajero: 2, Clase real: 1.0\n",
            "Clase predicha para el pasajero: 2, Clase real: 1.0\n",
            "Clase predicha para el pasajero: 1, Clase real: 1.0\n",
            "Clase predicha para el pasajero: 1, Clase real: 1.0\n",
            "Clase predicha para el pasajero: 1, Clase real: 3.0\n",
            "Clase predicha para el pasajero: 1, Clase real: 2.0\n",
            "Clase predicha para el pasajero: 2, Clase real: 2.0\n",
            "Clase predicha para el pasajero: 2, Clase real: 2.0\n",
            "Clase predicha para el pasajero: 1, Clase real: 3.0\n",
            "Clase predicha para el pasajero: 1, Clase real: 2.0\n",
            "Clase predicha para el pasajero: 2, Clase real: 1.0\n",
            "Clase predicha para el pasajero: 2, Clase real: 2.0\n",
            "Clase predicha para el pasajero: 1, Clase real: 1.0\n",
            "Clase predicha para el pasajero: 1, Clase real: 1.0\n",
            "Clase predicha para el pasajero: 1, Clase real: 2.0\n",
            "Clase predicha para el pasajero: 1, Clase real: 1.0\n",
            "Clase predicha para el pasajero: 1, Clase real: 2.0\n",
            "Clase predicha para el pasajero: 1, Clase real: 1.0\n",
            "Clase predicha para el pasajero: 1, Clase real: 2.0\n",
            "Clase predicha para el pasajero: 2, Clase real: 2.0\n",
            "Clase predicha para el pasajero: 1, Clase real: 1.0\n",
            "Clase predicha para el pasajero: 1, Clase real: 2.0\n",
            "Clase predicha para el pasajero: 2, Clase real: 1.0\n",
            "Clase predicha para el pasajero: 2, Clase real: 2.0\n",
            "Clase predicha para el pasajero: 2, Clase real: 1.0\n",
            "Clase predicha para el pasajero: 2, Clase real: 3.0\n",
            "Clase predicha para el pasajero: 1, Clase real: 2.0\n",
            "Clase predicha para el pasajero: 2, Clase real: 1.0\n",
            "Clase predicha para el pasajero: 1, Clase real: 2.0\n",
            "Clase predicha para el pasajero: 1, Clase real: 1.0\n",
            "Clase predicha para el pasajero: 1, Clase real: 2.0\n",
            "Clase predicha para el pasajero: 2, Clase real: 2.0\n",
            "Clase predicha para el pasajero: 1, Clase real: 2.0\n",
            "Clase predicha para el pasajero: 2, Clase real: 2.0\n",
            "Clase predicha para el pasajero: 1, Clase real: 1.0\n",
            "Clase predicha para el pasajero: 1, Clase real: 1.0\n",
            "Clase predicha para el pasajero: 2, Clase real: 1.0\n",
            "Clase predicha para el pasajero: 1, Clase real: 2.0\n",
            "Clase predicha para el pasajero: 1, Clase real: 2.0\n",
            "Clase predicha para el pasajero: 2, Clase real: 1.0\n",
            "Clase predicha para el pasajero: 1, Clase real: 2.0\n",
            "Correctas: 44/100\n"
          ]
        }
      ],
      "source": [
        "print(X.shape)\n",
        "pred = predictOneVsAll(all_theta, X)\n",
        "print('Precision del conjunto de entrenamiento: {:.2f}%'.format(np.mean(pred == y) * 100))\n",
        "XPrueba = X_test_norm[10:150, :].copy()\n",
        "print(XPrueba.shape)\n",
        "XPrueba = np.concatenate([np.ones((140, 1)), XPrueba], axis=1)\n",
        "p = np.argmax(sigmoid(XPrueba.dot(all_theta.T)), axis=1)\n",
        "\n",
        "# Imprimir la clase predicha y la clase real\n",
        "correctas = 0\n",
        "total = len(Y_test[10:110])\n",
        "for predicha, real in zip(p, y[10:110]):\n",
        "    if predicha == real:\n",
        "        correctas += 1\n",
        "    print(\"Clase predicha para el pasajero: {}, Clase real: {}\".format(predicha, real))\n",
        "\n",
        "# Calcular y mostrar la precisión\n",
        "precision = correctas / total\n",
        "print(\"Correctas: {}/{}\".format(correctas, total))\n"
      ]
    }
  ],
  "metadata": {
    "kernelspec": {
      "display_name": "Python 3",
      "language": "python",
      "name": "python3"
    },
    "language_info": {
      "codemirror_mode": {
        "name": "ipython",
        "version": 3
      },
      "file_extension": ".py",
      "mimetype": "text/x-python",
      "name": "python",
      "nbconvert_exporter": "python",
      "pygments_lexer": "ipython3",
      "version": "3.8.5"
    },
    "colab": {
      "provenance": []
    }
  },
  "nbformat": 4,
  "nbformat_minor": 0
}